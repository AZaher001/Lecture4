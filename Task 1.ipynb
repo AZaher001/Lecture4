{
 "cells": [
  {
   "cell_type": "code",
   "execution_count": null,
   "metadata": {},
   "outputs": [],
   "source": [
    "with open('test.txt','w+') as file:\n",
    "    for i in range(5):\n",
    "        print(file.write('hello world\\n')) \n",
    "    file.close()"
   ]
  },
  {
   "cell_type": "code",
   "execution_count": null,
   "metadata": {},
   "outputs": [],
   "source": [
    "reader = open('test.txt','r+')\n",
    "reader.seek(0)\n",
    "reader.readlines()\n",
    "for line in open('test.txt'):\n",
    "    x = line.upper()\n",
    "    print(x)\n",
    "    lines = [x,x,x,x,x]\n",
    "    reader.writelines(lines)\n",
    "    reader.seek(0)\n",
    "    my_file = reader.readlines()\n",
    "    print(my_file)\n",
    "    break"
   ]
  },
  {
   "cell_type": "code",
   "execution_count": null,
   "metadata": {},
   "outputs": [],
   "source": [
    "capital = my_file[2].capitalize()\n",
    "del my_file[2]\n",
    "my_file.insert(2,capital)\n",
    "reader1 = open('test.txt','w+')\n",
    "reader1.writelines(my_file)\n",
    "reader1.seek(0)\n",
    "reader1.readlines()"
   ]
  },
  {
   "cell_type": "code",
   "execution_count": null,
   "metadata": {},
   "outputs": [],
   "source": [
    "with open('test.txt','a+') as my_read:\n",
    "    my_read.write('/n I Love Python')\n",
    "    my_read.seek(0)\n",
    "    print(my_read.readlines())"
   ]
  }
 ],
 "metadata": {
  "kernelspec": {
   "display_name": "Python 3",
   "language": "python",
   "name": "python3"
  },
  "language_info": {
   "codemirror_mode": {
    "name": "ipython",
    "version": 3
   },
   "file_extension": ".py",
   "mimetype": "text/x-python",
   "name": "python",
   "nbconvert_exporter": "python",
   "pygments_lexer": "ipython3",
   "version": "3.8.5"
  }
 },
 "nbformat": 4,
 "nbformat_minor": 4
}
